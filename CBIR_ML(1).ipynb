{
  "nbformat": 4,
  "nbformat_minor": 0,
  "metadata": {
    "colab": {
      "name": "CBIR_ML(1).ipynb",
      "provenance": [],
      "collapsed_sections": [],
      "include_colab_link": true
    },
    "kernelspec": {
      "name": "python3",
      "display_name": "Python 3"
    },
    "language_info": {
      "name": "python"
    },
    "accelerator": "GPU"
  },
  "cells": [
    {
      "cell_type": "markdown",
      "metadata": {
        "id": "view-in-github",
        "colab_type": "text"
      },
      "source": [
        "<a href=\"https://colab.research.google.com/github/annisapraditha/ML_Production-main/blob/main/CBIR_ML(1).ipynb\" target=\"_parent\"><img src=\"https://colab.research.google.com/assets/colab-badge.svg\" alt=\"Open In Colab\"/></a>"
      ]
    },
    {
      "cell_type": "code",
      "metadata": {
        "colab": {
          "base_uri": "https://localhost:8080/"
        },
        "id": "GusCL3OVvMd1",
        "outputId": "57e7a8bf-20ae-4809-c71b-a9b39f194e2e"
      },
      "source": [
        "from google.colab import drive\n",
        "drive.mount('/content/drive')"
      ],
      "execution_count": null,
      "outputs": [
        {
          "output_type": "stream",
          "name": "stdout",
          "text": [
            "Mounted at /content/drive\n"
          ]
        }
      ]
    },
    {
      "cell_type": "code",
      "metadata": {
        "colab": {
          "base_uri": "https://localhost:8080/"
        },
        "id": "jqOZmWKfvQ-E",
        "outputId": "84c55f93-ec60-43e3-efae-1c0cca619d1a"
      },
      "source": [
        "%cd /content/drive/My Drive/ML"
      ],
      "execution_count": null,
      "outputs": [
        {
          "output_type": "stream",
          "name": "stdout",
          "text": [
            "/content/drive/My Drive/ML\n"
          ]
        }
      ]
    },
    {
      "cell_type": "code",
      "metadata": {
        "id": "-sct7ZFnvRAY"
      },
      "source": [
        "import os\n",
        "import zipfile\n",
        "\n",
        "local_zip = '/content/drive/MyDrive/ML/chest_xray.zip'\n",
        "zip_ref = zipfile.ZipFile(local_zip, 'r')\n",
        "zip_ref.extractall('/tmp')\n",
        "zip_ref.close()"
      ],
      "execution_count": null,
      "outputs": []
    },
    {
      "cell_type": "code",
      "metadata": {
        "colab": {
          "base_uri": "https://localhost:8080/"
        },
        "id": "xWXOwGW8vRJD",
        "outputId": "bf013b3f-6477-4aba-b8b9-91cbe5767fed"
      },
      "source": [
        "cd /tmp/chest_xray"
      ],
      "execution_count": null,
      "outputs": [
        {
          "output_type": "stream",
          "name": "stdout",
          "text": [
            "/tmp/chest_xray\n"
          ]
        }
      ]
    },
    {
      "cell_type": "code",
      "metadata": {
        "colab": {
          "base_uri": "https://localhost:8080/"
        },
        "id": "IZ1vblCe7nlX",
        "outputId": "9976ceba-6bfa-434e-e8e1-9a0cd3d7f010"
      },
      "source": [
        "%ls"
      ],
      "execution_count": null,
      "outputs": [
        {
          "output_type": "stream",
          "name": "stdout",
          "text": [
            "\u001b[0m\u001b[01;34mtest\u001b[0m/  \u001b[01;34mtrain\u001b[0m/\n"
          ]
        }
      ]
    },
    {
      "cell_type": "code",
      "metadata": {
        "id": "s_paikIivRLn"
      },
      "source": [
        "import os\n",
        "import cv2\n",
        "import numpy as np \n",
        "import pandas as pd\n",
        "import matplotlib.pyplot as plt\n",
        "import seaborn as sns\n",
        "from keras.utils.np_utils import to_categorical\n",
        "from sklearn.model_selection import train_test_split\n",
        "from tensorflow import keras\n",
        "from tensorflow.keras import layers\n",
        "from keras.models import Sequential\n",
        "from tensorflow.keras.optimizers import RMSprop, Adam\n",
        "from sklearn.metrics import confusion_matrix\n",
        "from tensorflow.keras import callbacks\n",
        "from keras.callbacks import ReduceLROnPlateau\n",
        "from keras.preprocessing.image import ImageDataGenerator\n",
        "from sklearn.metrics import classification_report, confusion_matrix"
      ],
      "execution_count": null,
      "outputs": []
    },
    {
      "cell_type": "code",
      "metadata": {
        "id": "ST5RmM216Mm8"
      },
      "source": [
        "train_dir = 'train'\n",
        "test_dir = 'test'"
      ],
      "execution_count": null,
      "outputs": []
    },
    {
      "cell_type": "code",
      "metadata": {
        "id": "DFzo6VbavRPf"
      },
      "source": [
        "import cv2\n",
        "import numpy as np\n",
        "import os\n",
        "\n",
        "test_data = []\n",
        "test_label = []\n",
        "for r, d, f in os.walk(test_dir):\n",
        "    for file in f:\n",
        "        if \".jpeg\" in file:\n",
        "            imagePath = os.path.join(r, file)\n",
        "            image = cv2.imread(imagePath)\n",
        "            image = cv2.resize(image, ((224,224)))\n",
        "            test_data.append(image)\n",
        "            label = imagePath.split(os.path.sep)[-2]\n",
        "            test_label.append(label)\n",
        "\n",
        "test_data = np.array(test_data)\n",
        "test_label = np.array(test_label)"
      ],
      "execution_count": null,
      "outputs": []
    },
    {
      "cell_type": "code",
      "metadata": {
        "id": "Tre296dy6VUm"
      },
      "source": [
        "import cv2\n",
        "import numpy as np\n",
        "import os\n",
        "\n",
        "train_data = []\n",
        "train_label = []\n",
        "for r, d, f in os.walk(train_dir):\n",
        "    for file in f:\n",
        "        if \".jpeg\" in file:\n",
        "            imagePath = os.path.join(r, file)\n",
        "            image = cv2.imread(imagePath)\n",
        "            image = cv2.resize(image, ((224,224)))\n",
        "            train_data.append(image)\n",
        "            label = imagePath.split(os.path.sep)[-2]\n",
        "            train_label.append(label)\n",
        "\n",
        "train_data = np.array(train_data)\n",
        "train_label = np.array(train_label)"
      ],
      "execution_count": null,
      "outputs": []
    },
    {
      "cell_type": "code",
      "metadata": {
        "colab": {
          "base_uri": "https://localhost:8080/"
        },
        "id": "zjy45gOqwWXf",
        "outputId": "93ae2d54-0c08-499f-dd57-3f6824525fea"
      },
      "source": [
        "print(\"Train Data = \", train_data.shape)\n",
        "print(\"Train Label = \", train_label.shape)\n",
        "print(\"Test Data = \", test_data.shape)\n",
        "print(\"Test Label = \", test_label.shape)"
      ],
      "execution_count": null,
      "outputs": [
        {
          "output_type": "stream",
          "name": "stdout",
          "text": [
            "Train Data =  (856, 224, 224, 3)\n",
            "Train Label =  (856,)\n",
            "Test Data =  (624, 224, 224, 3)\n",
            "Test Label =  (624,)\n"
          ]
        }
      ]
    },
    {
      "cell_type": "code",
      "metadata": {
        "colab": {
          "base_uri": "https://localhost:8080/"
        },
        "id": "nlp8UH8VDzte",
        "outputId": "1303ec35-6880-4cf6-c8cb-be044d1f7554"
      },
      "source": [
        "# Normalisasi dataset\n",
        "print(\"Data sebelum di-normalisasi \", test_data[0][0][0])\n",
        "\n",
        "x_test = test_data.astype('float32') / 255.0\n",
        "x_train = train_data.astype('float32') / 255.0\n",
        "print(\"Data setelah di-normalisasi \", x_test[0][0][0])"
      ],
      "execution_count": null,
      "outputs": [
        {
          "output_type": "stream",
          "name": "stdout",
          "text": [
            "Data sebelum di-normalisasi  [137 137 137]\n",
            "Data setelah di-normalisasi  [0.5372549 0.5372549 0.5372549]\n"
          ]
        }
      ]
    },
    {
      "cell_type": "code",
      "metadata": {
        "colab": {
          "base_uri": "https://localhost:8080/"
        },
        "id": "I4aBpGmaD3Hs",
        "outputId": "2588a618-474c-4152-d2ce-834c176bb743"
      },
      "source": [
        "# Transformasi label encoder\n",
        "from sklearn.preprocessing import LabelEncoder\n",
        "\n",
        "print(\"Label sebelum di-encoder \", test_label[100:110])\n",
        "\n",
        "lb = LabelEncoder()\n",
        "y_test = lb.fit_transform(test_label)\n",
        "y_train = lb.fit_transform(train_label)\n",
        "\n",
        "print(\"Label setelah di-encoder \", y_test[100:110])"
      ],
      "execution_count": null,
      "outputs": [
        {
          "output_type": "stream",
          "name": "stdout",
          "text": [
            "Label sebelum di-encoder  ['NORMAL' 'NORMAL' 'NORMAL' 'NORMAL' 'NORMAL' 'NORMAL' 'NORMAL' 'NORMAL'\n",
            " 'NORMAL' 'NORMAL']\n",
            "Label setelah di-encoder  [0 0 0 0 0 0 0 0 0 0]\n"
          ]
        }
      ]
    },
    {
      "cell_type": "code",
      "metadata": {
        "id": "4_jOwVmnwWaF"
      },
      "source": [
        "from tensorflow.keras.preprocessing.image import ImageDataGenerator\n",
        "\n",
        "train_datagen = ImageDataGenerator(\n",
        "    rescale=1./225,\n",
        "    validation_split=0.2,\n",
        "    rotation_range=20,\n",
        "    horizontal_flip=True,\n",
        "    shear_range=0.2,\n",
        "    zoom_range=0.2,\n",
        ")\n",
        "\n",
        "val_datagen = ImageDataGenerator(\n",
        "    rescale=1./255\n",
        ")"
      ],
      "execution_count": null,
      "outputs": []
    },
    {
      "cell_type": "code",
      "metadata": {
        "colab": {
          "base_uri": "https://localhost:8080/"
        },
        "id": "OJSPczzp-vuz",
        "outputId": "0ac0cf2b-8c76-470a-bbac-c508687038a9"
      },
      "source": [
        "train_generator = train_datagen.flow_from_directory(\n",
        "    train_dir,\n",
        "    target_size=(224,224),\n",
        "    batch_size=32,\n",
        "    class_mode='binary',\n",
        "    subset='training',\n",
        "    color_mode='rgb',\n",
        "    shuffle=True\n",
        ")\n",
        "\n",
        "test_generator = val_datagen.flow_from_directory(\n",
        "    test_dir,\n",
        "    target_size=(224,224),\n",
        "    batch_size=32,\n",
        "    class_mode='binary',\n",
        "    color_mode='rgb',\n",
        "    shuffle=True\n",
        ")\n",
        "\n",
        "val_generator = train_datagen.flow_from_directory(\n",
        "    train_dir,\n",
        "    target_size=(224,224),\n",
        "    batch_size=32,\n",
        "    class_mode='binary',\n",
        "    subset='validation',\n",
        "    color_mode='rgb',\n",
        "    shuffle=True\n",
        ")"
      ],
      "execution_count": null,
      "outputs": [
        {
          "output_type": "stream",
          "name": "stdout",
          "text": [
            "Found 686 images belonging to 2 classes.\n",
            "Found 624 images belonging to 2 classes.\n",
            "Found 170 images belonging to 2 classes.\n"
          ]
        }
      ]
    },
    {
      "cell_type": "code",
      "metadata": {
        "id": "t7ijxTrDwWj_"
      },
      "source": [
        "from tensorflow.keras.models import Sequential\n",
        "from tensorflow.keras.layers import InputLayer, Dense, Conv2D, MaxPool2D, Flatten\n",
        "# Feature Extraction Layer\n",
        "model = Sequential()\n",
        "\n",
        "model.add(InputLayer(input_shape=[100,100,3]))\n",
        "model.add(Conv2D(filters=16, kernel_size=3, strides=1, padding='same', activation='relu'))\n",
        "model.add(MaxPool2D(pool_size=2, padding='same'))\n",
        "model.add(Conv2D(filters=32, kernel_size=3, strides=1, padding='same', activation='relu'))\n",
        "model.add(MaxPool2D(pool_size=2, padding='same'))\n",
        "model.add(Conv2D(filters=64, kernel_size=3, strides=1, padding='same', activation='relu'))\n",
        "model.add(MaxPool2D(pool_size=2, padding='same'))\n",
        "model.add(Conv2D(filters=516, kernel_size=3, strides=1, padding='same', activation='relu'))\n",
        "model.add(MaxPool2D(pool_size=2, padding='same'))\n",
        "model.add(Flatten())"
      ],
      "execution_count": null,
      "outputs": []
    },
    {
      "cell_type": "code",
      "metadata": {
        "id": "IyBCrfI-8tyA"
      },
      "source": [
        "# Fully Connected Layer\n",
        "model.add(Dense(128, activation='relu'))\n",
        "model.add(Dense(1, activation='sigmoid'))"
      ],
      "execution_count": null,
      "outputs": []
    },
    {
      "cell_type": "code",
      "metadata": {
        "colab": {
          "base_uri": "https://localhost:8080/"
        },
        "id": "MQBUj-cN8t4U",
        "outputId": "5cdba85d-f299-4e58-cd1a-2680c1e52c49"
      },
      "source": [
        "# Print model summary\n",
        "print(model.summary())"
      ],
      "execution_count": null,
      "outputs": [
        {
          "output_type": "stream",
          "name": "stdout",
          "text": [
            "Model: \"sequential\"\n",
            "_________________________________________________________________\n",
            " Layer (type)                Output Shape              Param #   \n",
            "=================================================================\n",
            " conv2d (Conv2D)             (None, 100, 100, 16)      448       \n",
            "                                                                 \n",
            " max_pooling2d (MaxPooling2D  (None, 50, 50, 16)       0         \n",
            " )                                                               \n",
            "                                                                 \n",
            " conv2d_1 (Conv2D)           (None, 50, 50, 32)        4640      \n",
            "                                                                 \n",
            " max_pooling2d_1 (MaxPooling  (None, 25, 25, 32)       0         \n",
            " 2D)                                                             \n",
            "                                                                 \n",
            " conv2d_2 (Conv2D)           (None, 25, 25, 64)        18496     \n",
            "                                                                 \n",
            " max_pooling2d_2 (MaxPooling  (None, 13, 13, 64)       0         \n",
            " 2D)                                                             \n",
            "                                                                 \n",
            " conv2d_3 (Conv2D)           (None, 13, 13, 516)       297732    \n",
            "                                                                 \n",
            " max_pooling2d_3 (MaxPooling  (None, 7, 7, 516)        0         \n",
            " 2D)                                                             \n",
            "                                                                 \n",
            " flatten (Flatten)           (None, 25284)             0         \n",
            "                                                                 \n",
            " dense (Dense)               (None, 128)               3236480   \n",
            "                                                                 \n",
            " dense_1 (Dense)             (None, 1)                 129       \n",
            "                                                                 \n",
            "=================================================================\n",
            "Total params: 3,557,925\n",
            "Trainable params: 3,557,925\n",
            "Non-trainable params: 0\n",
            "_________________________________________________________________\n",
            "None\n"
          ]
        }
      ]
    },
    {
      "cell_type": "code",
      "metadata": {
        "colab": {
          "base_uri": "https://localhost:8080/"
        },
        "id": "nA0efU6ywWmV",
        "outputId": "c96a31ea-19a0-40cd-ac29-7d3c08c76146"
      },
      "source": [
        "# Compile model\n",
        "from tensorflow.keras.optimizers import Adam\n",
        "\n",
        "model.compile(optimizer=Adam(lr=0.0001), \n",
        "              loss='binary_crossentropy', \n",
        "              metrics=['acc'])\n",
        "H = model.fit(x_test, y_test, batch_size=20, epochs=100, validation_data=(x_train, y_train))"
      ],
      "execution_count": null,
      "outputs": [
        {
          "output_type": "stream",
          "name": "stderr",
          "text": [
            "/usr/local/lib/python3.7/dist-packages/keras/optimizer_v2/adam.py:105: UserWarning: The `lr` argument is deprecated, use `learning_rate` instead.\n",
            "  super(Adam, self).__init__(name, **kwargs)\n"
          ]
        },
        {
          "output_type": "stream",
          "name": "stdout",
          "text": [
            "Epoch 1/100\n",
            "32/32 [==============================] - 11s 48ms/step - loss: 0.6720 - acc: 0.6154 - val_loss: 0.6770 - val_acc: 0.5631\n",
            "Epoch 2/100\n",
            "32/32 [==============================] - 1s 28ms/step - loss: 0.6203 - acc: 0.6250 - val_loss: 0.5997 - val_acc: 0.5631\n",
            "Epoch 3/100\n",
            "32/32 [==============================] - 1s 28ms/step - loss: 0.5214 - acc: 0.7308 - val_loss: 0.4819 - val_acc: 0.8084\n",
            "Epoch 4/100\n",
            "32/32 [==============================] - 1s 28ms/step - loss: 0.3732 - acc: 0.8702 - val_loss: 0.4465 - val_acc: 0.7582\n",
            "Epoch 5/100\n",
            "32/32 [==============================] - 1s 28ms/step - loss: 0.2861 - acc: 0.8926 - val_loss: 0.3049 - val_acc: 0.8738\n",
            "Epoch 6/100\n",
            "32/32 [==============================] - 1s 29ms/step - loss: 0.2343 - acc: 0.9167 - val_loss: 0.3010 - val_acc: 0.8762\n",
            "Epoch 7/100\n",
            "32/32 [==============================] - 1s 28ms/step - loss: 0.2163 - acc: 0.9231 - val_loss: 0.2975 - val_acc: 0.8727\n",
            "Epoch 8/100\n",
            "32/32 [==============================] - 1s 28ms/step - loss: 0.1955 - acc: 0.9279 - val_loss: 0.2576 - val_acc: 0.9019\n",
            "Epoch 9/100\n",
            "32/32 [==============================] - 1s 28ms/step - loss: 0.1795 - acc: 0.9295 - val_loss: 0.2650 - val_acc: 0.9030\n",
            "Epoch 10/100\n",
            "32/32 [==============================] - 1s 28ms/step - loss: 0.1734 - acc: 0.9375 - val_loss: 0.2509 - val_acc: 0.9124\n",
            "Epoch 11/100\n",
            "32/32 [==============================] - 1s 28ms/step - loss: 0.1870 - acc: 0.9375 - val_loss: 0.2659 - val_acc: 0.8960\n",
            "Epoch 12/100\n",
            "32/32 [==============================] - 1s 28ms/step - loss: 0.2229 - acc: 0.9167 - val_loss: 0.2645 - val_acc: 0.9007\n",
            "Epoch 13/100\n",
            "32/32 [==============================] - 1s 28ms/step - loss: 0.1588 - acc: 0.9391 - val_loss: 0.2432 - val_acc: 0.9136\n",
            "Epoch 14/100\n",
            "32/32 [==============================] - 1s 28ms/step - loss: 0.1452 - acc: 0.9423 - val_loss: 0.2460 - val_acc: 0.9030\n",
            "Epoch 15/100\n",
            "32/32 [==============================] - 1s 28ms/step - loss: 0.1477 - acc: 0.9487 - val_loss: 0.3141 - val_acc: 0.8528\n",
            "Epoch 16/100\n",
            "32/32 [==============================] - 1s 28ms/step - loss: 0.1362 - acc: 0.9471 - val_loss: 0.2238 - val_acc: 0.9159\n",
            "Epoch 17/100\n",
            "32/32 [==============================] - 1s 28ms/step - loss: 0.1168 - acc: 0.9615 - val_loss: 0.2300 - val_acc: 0.9182\n",
            "Epoch 18/100\n",
            "32/32 [==============================] - 1s 29ms/step - loss: 0.1181 - acc: 0.9551 - val_loss: 0.2266 - val_acc: 0.9217\n",
            "Epoch 19/100\n",
            "32/32 [==============================] - 1s 29ms/step - loss: 0.1086 - acc: 0.9647 - val_loss: 0.2450 - val_acc: 0.9100\n",
            "Epoch 20/100\n",
            "32/32 [==============================] - 1s 28ms/step - loss: 0.1542 - acc: 0.9391 - val_loss: 0.2639 - val_acc: 0.8867\n",
            "Epoch 21/100\n",
            "32/32 [==============================] - 1s 28ms/step - loss: 0.1101 - acc: 0.9647 - val_loss: 0.2225 - val_acc: 0.9217\n",
            "Epoch 22/100\n",
            "32/32 [==============================] - 1s 28ms/step - loss: 0.1316 - acc: 0.9471 - val_loss: 0.2276 - val_acc: 0.9206\n",
            "Epoch 23/100\n",
            "32/32 [==============================] - 1s 29ms/step - loss: 0.1122 - acc: 0.9583 - val_loss: 0.2915 - val_acc: 0.8668\n",
            "Epoch 24/100\n",
            "32/32 [==============================] - 1s 28ms/step - loss: 0.1071 - acc: 0.9679 - val_loss: 0.2155 - val_acc: 0.9171\n",
            "Epoch 25/100\n",
            "32/32 [==============================] - 1s 28ms/step - loss: 0.0864 - acc: 0.9679 - val_loss: 0.2448 - val_acc: 0.9007\n",
            "Epoch 26/100\n",
            "32/32 [==============================] - 1s 28ms/step - loss: 0.0769 - acc: 0.9776 - val_loss: 0.2642 - val_acc: 0.8914\n",
            "Epoch 27/100\n",
            "32/32 [==============================] - 1s 28ms/step - loss: 0.0710 - acc: 0.9824 - val_loss: 0.2378 - val_acc: 0.9136\n",
            "Epoch 28/100\n",
            "32/32 [==============================] - 1s 28ms/step - loss: 0.0801 - acc: 0.9776 - val_loss: 0.2337 - val_acc: 0.9077\n",
            "Epoch 29/100\n",
            "32/32 [==============================] - 1s 28ms/step - loss: 0.0697 - acc: 0.9872 - val_loss: 0.2356 - val_acc: 0.9147\n",
            "Epoch 30/100\n",
            "32/32 [==============================] - 1s 28ms/step - loss: 0.0664 - acc: 0.9792 - val_loss: 0.2532 - val_acc: 0.8984\n",
            "Epoch 31/100\n",
            "32/32 [==============================] - 1s 28ms/step - loss: 0.0613 - acc: 0.9888 - val_loss: 0.2549 - val_acc: 0.9089\n",
            "Epoch 32/100\n",
            "32/32 [==============================] - 1s 28ms/step - loss: 0.0559 - acc: 0.9936 - val_loss: 0.2705 - val_acc: 0.8972\n",
            "Epoch 33/100\n",
            "32/32 [==============================] - 1s 28ms/step - loss: 0.0528 - acc: 0.9920 - val_loss: 0.2509 - val_acc: 0.9077\n",
            "Epoch 34/100\n",
            "32/32 [==============================] - 1s 28ms/step - loss: 0.0532 - acc: 0.9856 - val_loss: 0.2410 - val_acc: 0.9112\n",
            "Epoch 35/100\n",
            "32/32 [==============================] - 1s 28ms/step - loss: 0.0467 - acc: 0.9920 - val_loss: 0.2603 - val_acc: 0.9077\n",
            "Epoch 36/100\n",
            "32/32 [==============================] - 1s 28ms/step - loss: 0.0492 - acc: 0.9920 - val_loss: 0.2537 - val_acc: 0.9194\n",
            "Epoch 37/100\n",
            "32/32 [==============================] - 1s 28ms/step - loss: 0.0452 - acc: 0.9888 - val_loss: 0.2886 - val_acc: 0.9007\n",
            "Epoch 38/100\n",
            "32/32 [==============================] - 1s 28ms/step - loss: 0.0538 - acc: 0.9888 - val_loss: 0.2852 - val_acc: 0.9007\n",
            "Epoch 39/100\n",
            "32/32 [==============================] - 1s 29ms/step - loss: 0.0397 - acc: 0.9920 - val_loss: 0.2813 - val_acc: 0.8995\n",
            "Epoch 40/100\n",
            "32/32 [==============================] - 1s 28ms/step - loss: 0.0361 - acc: 0.9936 - val_loss: 0.2909 - val_acc: 0.9042\n",
            "Epoch 41/100\n",
            "32/32 [==============================] - 1s 28ms/step - loss: 0.0341 - acc: 0.9952 - val_loss: 0.2789 - val_acc: 0.9100\n",
            "Epoch 42/100\n",
            "32/32 [==============================] - 1s 28ms/step - loss: 0.0415 - acc: 0.9856 - val_loss: 0.4599 - val_acc: 0.8493\n",
            "Epoch 43/100\n",
            "32/32 [==============================] - 1s 28ms/step - loss: 0.0456 - acc: 0.9872 - val_loss: 0.3587 - val_acc: 0.8692\n",
            "Epoch 44/100\n",
            "32/32 [==============================] - 1s 28ms/step - loss: 0.0358 - acc: 0.9952 - val_loss: 0.3106 - val_acc: 0.8995\n",
            "Epoch 45/100\n",
            "32/32 [==============================] - 1s 28ms/step - loss: 0.0274 - acc: 0.9952 - val_loss: 0.3527 - val_acc: 0.8808\n",
            "Epoch 46/100\n",
            "32/32 [==============================] - 1s 28ms/step - loss: 0.0293 - acc: 0.9952 - val_loss: 0.3032 - val_acc: 0.9089\n",
            "Epoch 47/100\n",
            "32/32 [==============================] - 1s 28ms/step - loss: 0.0281 - acc: 0.9952 - val_loss: 0.4147 - val_acc: 0.8645\n",
            "Epoch 48/100\n",
            "32/32 [==============================] - 1s 28ms/step - loss: 0.0274 - acc: 0.9952 - val_loss: 0.3276 - val_acc: 0.8949\n",
            "Epoch 49/100\n",
            "32/32 [==============================] - 1s 28ms/step - loss: 0.0256 - acc: 0.9952 - val_loss: 0.3484 - val_acc: 0.8937\n",
            "Epoch 50/100\n",
            "32/32 [==============================] - 1s 39ms/step - loss: 0.0207 - acc: 0.9968 - val_loss: 0.3869 - val_acc: 0.8750\n",
            "Epoch 51/100\n",
            "32/32 [==============================] - 1s 29ms/step - loss: 0.0195 - acc: 0.9952 - val_loss: 0.3819 - val_acc: 0.8797\n",
            "Epoch 52/100\n",
            "32/32 [==============================] - 1s 39ms/step - loss: 0.0181 - acc: 0.9968 - val_loss: 0.3788 - val_acc: 0.8808\n",
            "Epoch 53/100\n",
            "32/32 [==============================] - 1s 31ms/step - loss: 0.0211 - acc: 0.9952 - val_loss: 0.3356 - val_acc: 0.8960\n",
            "Epoch 54/100\n",
            "32/32 [==============================] - 1s 35ms/step - loss: 0.0197 - acc: 0.9968 - val_loss: 0.3939 - val_acc: 0.8762\n",
            "Epoch 55/100\n",
            "32/32 [==============================] - 1s 36ms/step - loss: 0.0211 - acc: 0.9968 - val_loss: 0.3903 - val_acc: 0.8785\n",
            "Epoch 56/100\n",
            "32/32 [==============================] - 1s 32ms/step - loss: 0.0262 - acc: 0.9936 - val_loss: 0.3481 - val_acc: 0.9007\n",
            "Epoch 57/100\n",
            "32/32 [==============================] - 1s 33ms/step - loss: 0.0165 - acc: 0.9968 - val_loss: 0.3684 - val_acc: 0.8960\n",
            "Epoch 58/100\n",
            "32/32 [==============================] - 1s 34ms/step - loss: 0.0160 - acc: 0.9968 - val_loss: 0.4352 - val_acc: 0.8773\n",
            "Epoch 59/100\n",
            "32/32 [==============================] - 1s 34ms/step - loss: 0.0141 - acc: 0.9968 - val_loss: 0.4158 - val_acc: 0.8797\n",
            "Epoch 60/100\n",
            "32/32 [==============================] - 1s 42ms/step - loss: 0.0143 - acc: 0.9968 - val_loss: 0.4194 - val_acc: 0.8832\n",
            "Epoch 61/100\n",
            "32/32 [==============================] - 1s 31ms/step - loss: 0.0121 - acc: 0.9984 - val_loss: 0.3767 - val_acc: 0.8960\n",
            "Epoch 62/100\n",
            "32/32 [==============================] - 1s 29ms/step - loss: 0.0124 - acc: 0.9968 - val_loss: 0.3909 - val_acc: 0.8949\n",
            "Epoch 63/100\n",
            "32/32 [==============================] - 1s 29ms/step - loss: 0.0116 - acc: 0.9984 - val_loss: 0.4097 - val_acc: 0.8855\n",
            "Epoch 64/100\n",
            "32/32 [==============================] - 1s 30ms/step - loss: 0.0108 - acc: 0.9984 - val_loss: 0.3955 - val_acc: 0.8960\n",
            "Epoch 65/100\n",
            "32/32 [==============================] - 1s 40ms/step - loss: 0.0107 - acc: 0.9968 - val_loss: 0.4273 - val_acc: 0.8843\n",
            "Epoch 66/100\n",
            "32/32 [==============================] - 1s 40ms/step - loss: 0.0100 - acc: 0.9984 - val_loss: 0.4224 - val_acc: 0.8914\n",
            "Epoch 67/100\n",
            "32/32 [==============================] - 1s 29ms/step - loss: 0.0100 - acc: 0.9984 - val_loss: 0.4384 - val_acc: 0.8867\n",
            "Epoch 68/100\n",
            "32/32 [==============================] - 1s 39ms/step - loss: 0.0097 - acc: 0.9984 - val_loss: 0.4425 - val_acc: 0.8855\n",
            "Epoch 69/100\n",
            "32/32 [==============================] - 1s 29ms/step - loss: 0.0085 - acc: 0.9984 - val_loss: 0.4465 - val_acc: 0.8855\n",
            "Epoch 70/100\n",
            "32/32 [==============================] - 1s 30ms/step - loss: 0.0088 - acc: 0.9984 - val_loss: 0.4770 - val_acc: 0.8773\n",
            "Epoch 71/100\n",
            "32/32 [==============================] - 1s 30ms/step - loss: 0.0084 - acc: 0.9984 - val_loss: 0.4424 - val_acc: 0.8925\n",
            "Epoch 72/100\n",
            "32/32 [==============================] - 1s 30ms/step - loss: 0.0079 - acc: 0.9984 - val_loss: 0.4388 - val_acc: 0.8843\n",
            "Epoch 73/100\n",
            "32/32 [==============================] - 1s 29ms/step - loss: 0.0069 - acc: 0.9984 - val_loss: 0.4416 - val_acc: 0.8914\n",
            "Epoch 74/100\n",
            "32/32 [==============================] - 1s 29ms/step - loss: 0.0067 - acc: 0.9984 - val_loss: 0.4804 - val_acc: 0.8843\n",
            "Epoch 75/100\n",
            "32/32 [==============================] - 1s 29ms/step - loss: 0.0064 - acc: 0.9984 - val_loss: 0.4519 - val_acc: 0.8925\n",
            "Epoch 76/100\n",
            "32/32 [==============================] - 1s 29ms/step - loss: 0.0060 - acc: 0.9984 - val_loss: 0.4776 - val_acc: 0.8890\n",
            "Epoch 77/100\n",
            "32/32 [==============================] - 1s 29ms/step - loss: 0.0061 - acc: 0.9984 - val_loss: 0.5086 - val_acc: 0.8797\n",
            "Epoch 78/100\n",
            "32/32 [==============================] - 1s 28ms/step - loss: 0.0053 - acc: 0.9984 - val_loss: 0.4714 - val_acc: 0.8890\n",
            "Epoch 79/100\n",
            "32/32 [==============================] - 1s 39ms/step - loss: 0.0050 - acc: 0.9984 - val_loss: 0.4796 - val_acc: 0.8855\n",
            "Epoch 80/100\n",
            "32/32 [==============================] - 1s 30ms/step - loss: 0.0045 - acc: 0.9984 - val_loss: 0.4956 - val_acc: 0.8879\n",
            "Epoch 81/100\n",
            "32/32 [==============================] - 1s 29ms/step - loss: 0.0049 - acc: 0.9984 - val_loss: 0.5057 - val_acc: 0.8867\n",
            "Epoch 82/100\n",
            "32/32 [==============================] - 1s 28ms/step - loss: 0.0046 - acc: 0.9984 - val_loss: 0.4999 - val_acc: 0.8890\n",
            "Epoch 83/100\n",
            "32/32 [==============================] - 1s 29ms/step - loss: 0.0043 - acc: 0.9984 - val_loss: 0.5165 - val_acc: 0.8890\n",
            "Epoch 84/100\n",
            "32/32 [==============================] - 1s 28ms/step - loss: 0.0050 - acc: 0.9984 - val_loss: 0.4968 - val_acc: 0.8914\n",
            "Epoch 85/100\n",
            "32/32 [==============================] - 1s 28ms/step - loss: 0.0045 - acc: 0.9984 - val_loss: 0.5125 - val_acc: 0.8855\n",
            "Epoch 86/100\n",
            "32/32 [==============================] - 1s 28ms/step - loss: 0.0033 - acc: 0.9984 - val_loss: 0.5114 - val_acc: 0.8902\n",
            "Epoch 87/100\n",
            "32/32 [==============================] - 1s 28ms/step - loss: 0.0028 - acc: 1.0000 - val_loss: 0.5382 - val_acc: 0.8879\n",
            "Epoch 88/100\n",
            "32/32 [==============================] - 1s 28ms/step - loss: 0.0030 - acc: 0.9984 - val_loss: 0.5583 - val_acc: 0.8843\n",
            "Epoch 89/100\n",
            "32/32 [==============================] - 1s 29ms/step - loss: 0.0025 - acc: 1.0000 - val_loss: 0.5572 - val_acc: 0.8855\n",
            "Epoch 90/100\n",
            "32/32 [==============================] - 1s 39ms/step - loss: 0.0024 - acc: 1.0000 - val_loss: 0.5701 - val_acc: 0.8843\n",
            "Epoch 91/100\n",
            "32/32 [==============================] - 1s 29ms/step - loss: 0.0026 - acc: 0.9984 - val_loss: 0.5520 - val_acc: 0.8855\n",
            "Epoch 92/100\n",
            "32/32 [==============================] - 1s 30ms/step - loss: 0.0022 - acc: 1.0000 - val_loss: 0.5663 - val_acc: 0.8867\n",
            "Epoch 93/100\n",
            "32/32 [==============================] - 1s 29ms/step - loss: 0.0021 - acc: 0.9984 - val_loss: 0.5777 - val_acc: 0.8879\n",
            "Epoch 94/100\n",
            "32/32 [==============================] - 1s 30ms/step - loss: 0.0019 - acc: 1.0000 - val_loss: 0.5715 - val_acc: 0.8902\n",
            "Epoch 95/100\n",
            "32/32 [==============================] - 1s 45ms/step - loss: 0.0059 - acc: 0.9984 - val_loss: 0.6202 - val_acc: 0.8820\n",
            "Epoch 96/100\n",
            "32/32 [==============================] - 1s 29ms/step - loss: 0.0031 - acc: 0.9984 - val_loss: 0.5663 - val_acc: 0.8914\n",
            "Epoch 97/100\n",
            "32/32 [==============================] - 1s 29ms/step - loss: 0.0016 - acc: 1.0000 - val_loss: 0.6079 - val_acc: 0.8843\n",
            "Epoch 98/100\n",
            "32/32 [==============================] - 1s 28ms/step - loss: 0.0012 - acc: 1.0000 - val_loss: 0.6362 - val_acc: 0.8832\n",
            "Epoch 99/100\n",
            "32/32 [==============================] - 1s 28ms/step - loss: 0.0013 - acc: 1.0000 - val_loss: 0.6497 - val_acc: 0.8820\n",
            "Epoch 100/100\n",
            "32/32 [==============================] - 1s 29ms/step - loss: 0.0011 - acc: 1.0000 - val_loss: 0.6444 - val_acc: 0.8843\n"
          ]
        }
      ]
    },
    {
      "cell_type": "code",
      "metadata": {
        "colab": {
          "base_uri": "https://localhost:8080/",
          "height": 581
        },
        "id": "4PkdY3vHwWow",
        "outputId": "7decfc59-876d-4c10-fa63-e2d44eb46541"
      },
      "source": [
        "%matplotlib inline\n",
        "\n",
        "import matplotlib.pyplot as plt\n",
        "\n",
        "plt.style.use(\"ggplot\")\n",
        "plt.figure()\n",
        "plt.plot(np.arange(0, 100), H.history[\"loss\"], label=\"train_loss\")\n",
        "plt.plot(np.arange(0, 100), H.history[\"val_loss\"], label=\"val_loss\")\n",
        "plt.title(\"Loss Plot\")\n",
        "plt.xlabel(\"Epoch #\")\n",
        "plt.ylabel(\"Loss\")\n",
        "plt.legend()\n",
        "plt.show()\n",
        "\n",
        "plt.style.use(\"ggplot\")\n",
        "plt.figure()\n",
        "plt.plot(np.arange(0, 100), H.history[\"acc\"], label=\"train_acc\")\n",
        "plt.plot(np.arange(0, 100), H.history[\"val_acc\"], label=\"val_acc\")\n",
        "plt.title(\"Accuracy Plot\")\n",
        "plt.xlabel(\"Epoch #\")\n",
        "plt.ylabel(\"Acc\")\n",
        "plt.legend()\n",
        "plt.show()"
      ],
      "execution_count": null,
      "outputs": [
        {
          "output_type": "display_data",
          "data": {
            "image/png": "[encoded data removed]",
            "text/plain": [
              "<Figure size 432x288 with 1 Axes>"
            ]
          },
          "metadata": {}
        },
        {
          "output_type": "display_data",
          "data": {
            "image/png": "[encoded data removed]",
            "text/plain": [
              "<Figure size 432x288 with 1 Axes>"
            ]
          },
          "metadata": {}
        }
      ]
    },
    {
      "cell_type": "code",
      "metadata": {
        "colab": {
          "base_uri": "https://localhost:8080/"
        },
        "id": "eUB3YkbWwWq1",
        "outputId": "b8ff6d93-4afe-439e-f687-2099d2e52d4d"
      },
      "source": [
        "from sklearn.metrics import classification_report\n",
        "\n",
        "pred = model.predict(x_train)\n",
        "labels = (pred > 0.5).astype(np.int)\n",
        "\n",
        "print(classification_report(y_train, labels))"
      ],
      "execution_count": null,
      "outputs": [
        {
          "output_type": "stream",
          "name": "stdout",
          "text": [
            "              precision    recall  f1-score   support\n",
            "\n",
            "           0       0.82      0.94      0.88       374\n",
            "           1       0.95      0.84      0.89       482\n",
            "\n",
            "    accuracy                           0.88       856\n",
            "   macro avg       0.88      0.89      0.88       856\n",
            "weighted avg       0.89      0.88      0.88       856\n",
            "\n"
          ]
        }
      ]
    },
    {
      "cell_type": "code",
      "metadata": {
        "id": "qEIlFPKbEi2k"
      },
      "source": [
        "from keras.models import save_model\n",
        "model = save_model(model,'CNN.h5')"
      ],
      "execution_count": null,
      "outputs": []
    },
    {
      "cell_type": "code",
      "source": [
        "from tensorflow.keras.models import Model\n",
        "from tensorflow.keras.layers import Dense, Flatten, Dropout, Input\n",
        "from tensorflow.keras.applications import MobileNet"
      ],
      "metadata": {
        "id": "kqlgffYR8WXV"
      },
      "execution_count": null,
      "outputs": []
    },
    {
      "cell_type": "code",
      "source": [
        "import tensorflow as tf\n",
        "from keras import layers, Model\n",
        "from keras.layers import InputLayer, Activation, Dense, Conv2D, MaxPool2D, Dropout, Flatten, BatchNormalization, Concatenate, Input, GlobalAveragePooling2D\n",
        "from keras.models import Sequential\n",
        "\n",
        "model_1 = MobileNet(weights='imagenet', include_top=False, input_shape=(224,224,3))"
      ],
      "metadata": {
        "id": "A_KK9qHK8W9Q"
      },
      "execution_count": null,
      "outputs": []
    },
    {
      "cell_type": "code",
      "source": [
        "class Combin1:\n",
        "  def build(model_1,classes):\n",
        "    headModel = model_1.output\n",
        "    headModel = Flatten(name=\"flatten\")(headModel)\n",
        "    headModel = Dense(128, activation='relu')(headModel)\n",
        "    headModel = Dense(64, activation='relu')(headModel)\n",
        "    headModel = Dense(1, activation='relu')(headModel)\n",
        "    headModel = Dense(classes, activation='sigmoid')(headModel)\n",
        "    return headModel"
      ],
      "metadata": {
        "id": "mqt1SEAZBB4_"
      },
      "execution_count": null,
      "outputs": []
    },
    {
      "cell_type": "code",
      "source": [
        "headModel2 = Combin1.build(model_1, 1)\n",
        "model2 =Model(inputs=model_1.input, outputs=headModel2)"
      ],
      "metadata": {
        "id": "z68EMGHtBbpo"
      },
      "execution_count": null,
      "outputs": []
    },
    {
      "cell_type": "code",
      "source": [
        "for layer in model_1.layers:\n",
        "  layer.trainable = False"
      ],
      "metadata": {
        "id": "rTkNzxlyB2qk"
      },
      "execution_count": null,
      "outputs": []
    },
    {
      "cell_type": "code",
      "source": [
        "model2.summary()"
      ],
      "metadata": {
        "id": "Q5DLf53ZB2uK",
        "outputId": "bae618ed-0d7a-4b49-8708-a042b2413e7b",
        "colab": {
          "base_uri": "https://localhost:8080/"
        }
      },
      "execution_count": null,
      "outputs": [
        {
          "output_type": "stream",
          "name": "stdout",
          "text": [
            "Model: \"model_7\"\n",
            "_________________________________________________________________\n",
            " Layer (type)                Output Shape              Param #   \n",
            "=================================================================\n",
            " input_12 (InputLayer)       [(None, 224, 224, 3)]     0         \n",
            "                                                                 \n",
            " conv1 (Conv2D)              (None, 112, 112, 32)      864       \n",
            "                                                                 \n",
            " conv1_bn (BatchNormalizatio  (None, 112, 112, 32)     128       \n",
            " n)                                                              \n",
            "                                                                 \n",
            " conv1_relu (ReLU)           (None, 112, 112, 32)      0         \n",
            "                                                                 \n",
            " conv_dw_1 (DepthwiseConv2D)  (None, 112, 112, 32)     288       \n",
            "                                                                 \n",
            " conv_dw_1_bn (BatchNormaliz  (None, 112, 112, 32)     128       \n",
            " ation)                                                          \n",
            "                                                                 \n",
            " conv_dw_1_relu (ReLU)       (None, 112, 112, 32)      0         \n",
            "                                                                 \n",
            " conv_pw_1 (Conv2D)          (None, 112, 112, 64)      2048      \n",
            "                                                                 \n",
            " conv_pw_1_bn (BatchNormaliz  (None, 112, 112, 64)     256       \n",
            " ation)                                                          \n",
            "                                                                 \n",
            " conv_pw_1_relu (ReLU)       (None, 112, 112, 64)      0         \n",
            "                                                                 \n",
            " conv_pad_2 (ZeroPadding2D)  (None, 113, 113, 64)      0         \n",
            "                                                                 \n",
            " conv_dw_2 (DepthwiseConv2D)  (None, 56, 56, 64)       576       \n",
            "                                                                 \n",
            " conv_dw_2_bn (BatchNormaliz  (None, 56, 56, 64)       256       \n",
            " ation)                                                          \n",
            "                                                                 \n",
            " conv_dw_2_relu (ReLU)       (None, 56, 56, 64)        0         \n",
            "                                                                 \n",
            " conv_pw_2 (Conv2D)          (None, 56, 56, 128)       8192      \n",
            "                                                                 \n",
            " conv_pw_2_bn (BatchNormaliz  (None, 56, 56, 128)      512       \n",
            " ation)                                                          \n",
            "                                                                 \n",
            " conv_pw_2_relu (ReLU)       (None, 56, 56, 128)       0         \n",
            "                                                                 \n",
            " conv_dw_3 (DepthwiseConv2D)  (None, 56, 56, 128)      1152      \n",
            "                                                                 \n",
            " conv_dw_3_bn (BatchNormaliz  (None, 56, 56, 128)      512       \n",
            " ation)                                                          \n",
            "                                                                 \n",
            " conv_dw_3_relu (ReLU)       (None, 56, 56, 128)       0         \n",
            "                                                                 \n",
            " conv_pw_3 (Conv2D)          (None, 56, 56, 128)       16384     \n",
            "                                                                 \n",
            " conv_pw_3_bn (BatchNormaliz  (None, 56, 56, 128)      512       \n",
            " ation)                                                          \n",
            "                                                                 \n",
            " conv_pw_3_relu (ReLU)       (None, 56, 56, 128)       0         \n",
            "                                                                 \n",
            " conv_pad_4 (ZeroPadding2D)  (None, 57, 57, 128)       0         \n",
            "                                                                 \n",
            " conv_dw_4 (DepthwiseConv2D)  (None, 28, 28, 128)      1152      \n",
            "                                                                 \n",
            " conv_dw_4_bn (BatchNormaliz  (None, 28, 28, 128)      512       \n",
            " ation)                                                          \n",
            "                                                                 \n",
            " conv_dw_4_relu (ReLU)       (None, 28, 28, 128)       0         \n",
            "                                                                 \n",
            " conv_pw_4 (Conv2D)          (None, 28, 28, 256)       32768     \n",
            "                                                                 \n",
            " conv_pw_4_bn (BatchNormaliz  (None, 28, 28, 256)      1024      \n",
            " ation)                                                          \n",
            "                                                                 \n",
            " conv_pw_4_relu (ReLU)       (None, 28, 28, 256)       0         \n",
            "                                                                 \n",
            " conv_dw_5 (DepthwiseConv2D)  (None, 28, 28, 256)      2304      \n",
            "                                                                 \n",
            " conv_dw_5_bn (BatchNormaliz  (None, 28, 28, 256)      1024      \n",
            " ation)                                                          \n",
            "                                                                 \n",
            " conv_dw_5_relu (ReLU)       (None, 28, 28, 256)       0         \n",
            "                                                                 \n",
            " conv_pw_5 (Conv2D)          (None, 28, 28, 256)       65536     \n",
            "                                                                 \n",
            " conv_pw_5_bn (BatchNormaliz  (None, 28, 28, 256)      1024      \n",
            " ation)                                                          \n",
            "                                                                 \n",
            " conv_pw_5_relu (ReLU)       (None, 28, 28, 256)       0         \n",
            "                                                                 \n",
            " conv_pad_6 (ZeroPadding2D)  (None, 29, 29, 256)       0         \n",
            "                                                                 \n",
            " conv_dw_6 (DepthwiseConv2D)  (None, 14, 14, 256)      2304      \n",
            "                                                                 \n",
            " conv_dw_6_bn (BatchNormaliz  (None, 14, 14, 256)      1024      \n",
            " ation)                                                          \n",
            "                                                                 \n",
            " conv_dw_6_relu (ReLU)       (None, 14, 14, 256)       0         \n",
            "                                                                 \n",
            " conv_pw_6 (Conv2D)          (None, 14, 14, 512)       131072    \n",
            "                                                                 \n",
            " conv_pw_6_bn (BatchNormaliz  (None, 14, 14, 512)      2048      \n",
            " ation)                                                          \n",
            "                                                                 \n",
            " conv_pw_6_relu (ReLU)       (None, 14, 14, 512)       0         \n",
            "                                                                 \n",
            " conv_dw_7 (DepthwiseConv2D)  (None, 14, 14, 512)      4608      \n",
            "                                                                 \n",
            " conv_dw_7_bn (BatchNormaliz  (None, 14, 14, 512)      2048      \n",
            " ation)                                                          \n",
            "                                                                 \n",
            " conv_dw_7_relu (ReLU)       (None, 14, 14, 512)       0         \n",
            "                                                                 \n",
            " conv_pw_7 (Conv2D)          (None, 14, 14, 512)       262144    \n",
            "                                                                 \n",
            " conv_pw_7_bn (BatchNormaliz  (None, 14, 14, 512)      2048      \n",
            " ation)                                                          \n",
            "                                                                 \n",
            " conv_pw_7_relu (ReLU)       (None, 14, 14, 512)       0         \n",
            "                                                                 \n",
            " conv_dw_8 (DepthwiseConv2D)  (None, 14, 14, 512)      4608      \n",
            "                                                                 \n",
            " conv_dw_8_bn (BatchNormaliz  (None, 14, 14, 512)      2048      \n",
            " ation)                                                          \n",
            "                                                                 \n",
            " conv_dw_8_relu (ReLU)       (None, 14, 14, 512)       0         \n",
            "                                                                 \n",
            " conv_pw_8 (Conv2D)          (None, 14, 14, 512)       262144    \n",
            "                                                                 \n",
            " conv_pw_8_bn (BatchNormaliz  (None, 14, 14, 512)      2048      \n",
            " ation)                                                          \n",
            "                                                                 \n",
            " conv_pw_8_relu (ReLU)       (None, 14, 14, 512)       0         \n",
            "                                                                 \n",
            " conv_dw_9 (DepthwiseConv2D)  (None, 14, 14, 512)      4608      \n",
            "                                                                 \n",
            " conv_dw_9_bn (BatchNormaliz  (None, 14, 14, 512)      2048      \n",
            " ation)                                                          \n",
            "                                                                 \n",
            " conv_dw_9_relu (ReLU)       (None, 14, 14, 512)       0         \n",
            "                                                                 \n",
            " conv_pw_9 (Conv2D)          (None, 14, 14, 512)       262144    \n",
            "                                                                 \n",
            " conv_pw_9_bn (BatchNormaliz  (None, 14, 14, 512)      2048      \n",
            " ation)                                                          \n",
            "                                                                 \n",
            " conv_pw_9_relu (ReLU)       (None, 14, 14, 512)       0         \n",
            "                                                                 \n",
            " conv_dw_10 (DepthwiseConv2D  (None, 14, 14, 512)      4608      \n",
            " )                                                               \n",
            "                                                                 \n",
            " conv_dw_10_bn (BatchNormali  (None, 14, 14, 512)      2048      \n",
            " zation)                                                         \n",
            "                                                                 \n",
            " conv_dw_10_relu (ReLU)      (None, 14, 14, 512)       0         \n",
            "                                                                 \n",
            " conv_pw_10 (Conv2D)         (None, 14, 14, 512)       262144    \n",
            "                                                                 \n",
            " conv_pw_10_bn (BatchNormali  (None, 14, 14, 512)      2048      \n",
            " zation)                                                         \n",
            "                                                                 \n",
            " conv_pw_10_relu (ReLU)      (None, 14, 14, 512)       0         \n",
            "                                                                 \n",
            " conv_dw_11 (DepthwiseConv2D  (None, 14, 14, 512)      4608      \n",
            " )                                                               \n",
            "                                                                 \n",
            " conv_dw_11_bn (BatchNormali  (None, 14, 14, 512)      2048      \n",
            " zation)                                                         \n",
            "                                                                 \n",
            " conv_dw_11_relu (ReLU)      (None, 14, 14, 512)       0         \n",
            "                                                                 \n",
            " conv_pw_11 (Conv2D)         (None, 14, 14, 512)       262144    \n",
            "                                                                 \n",
            " conv_pw_11_bn (BatchNormali  (None, 14, 14, 512)      2048      \n",
            " zation)                                                         \n",
            "                                                                 \n",
            " conv_pw_11_relu (ReLU)      (None, 14, 14, 512)       0         \n",
            "                                                                 \n",
            " conv_pad_12 (ZeroPadding2D)  (None, 15, 15, 512)      0         \n",
            "                                                                 \n",
            " conv_dw_12 (DepthwiseConv2D  (None, 7, 7, 512)        4608      \n",
            " )                                                               \n",
            "                                                                 \n",
            " conv_dw_12_bn (BatchNormali  (None, 7, 7, 512)        2048      \n",
            " zation)                                                         \n",
            "                                                                 \n",
            " conv_dw_12_relu (ReLU)      (None, 7, 7, 512)         0         \n",
            "                                                                 \n",
            " conv_pw_12 (Conv2D)         (None, 7, 7, 1024)        524288    \n",
            "                                                                 \n",
            " conv_pw_12_bn (BatchNormali  (None, 7, 7, 1024)       4096      \n",
            " zation)                                                         \n",
            "                                                                 \n",
            " conv_pw_12_relu (ReLU)      (None, 7, 7, 1024)        0         \n",
            "                                                                 \n",
            " conv_dw_13 (DepthwiseConv2D  (None, 7, 7, 1024)       9216      \n",
            " )                                                               \n",
            "                                                                 \n",
            " conv_dw_13_bn (BatchNormali  (None, 7, 7, 1024)       4096      \n",
            " zation)                                                         \n",
            "                                                                 \n",
            " conv_dw_13_relu (ReLU)      (None, 7, 7, 1024)        0         \n",
            "                                                                 \n",
            " conv_pw_13 (Conv2D)         (None, 7, 7, 1024)        1048576   \n",
            "                                                                 \n",
            " conv_pw_13_bn (BatchNormali  (None, 7, 7, 1024)       4096      \n",
            " zation)                                                         \n",
            "                                                                 \n",
            " conv_pw_13_relu (ReLU)      (None, 7, 7, 1024)        0         \n",
            "                                                                 \n",
            " flatten (Flatten)           (None, 50176)             0         \n",
            "                                                                 \n",
            " dense_21 (Dense)            (None, 128)               6422656   \n",
            "                                                                 \n",
            " dense_22 (Dense)            (None, 64)                8256      \n",
            "                                                                 \n",
            " dense_23 (Dense)            (None, 1)                 65        \n",
            "                                                                 \n",
            " dense_24 (Dense)            (None, 1)                 2         \n",
            "                                                                 \n",
            "=================================================================\n",
            "Total params: 9,659,843\n",
            "Trainable params: 6,430,979\n",
            "Non-trainable params: 3,228,864\n",
            "_________________________________________________________________\n"
          ]
        }
      ]
    },
    {
      "cell_type": "code",
      "source": [
        "model2.compile(\n",
        "    optimizer=Adam(lr=0.00001, decay= 0.001/20),\n",
        "    loss ='binary_crossentropy',\n",
        "    metrics =['accuracy']\n",
        ")"
      ],
      "metadata": {
        "id": "CeCUr9LzB23S",
        "outputId": "74d17c93-5dd4-4a54-9dd2-1d758871716b",
        "colab": {
          "base_uri": "https://localhost:8080/"
        }
      },
      "execution_count": null,
      "outputs": [
        {
          "output_type": "stream",
          "name": "stderr",
          "text": [
            "/usr/local/lib/python3.7/dist-packages/keras/optimizer_v2/adam.py:105: UserWarning: The `lr` argument is deprecated, use `learning_rate` instead.\n",
            "  super(Adam, self).__init__(name, **kwargs)\n"
          ]
        }
      ]
    },
    {
      "cell_type": "code",
      "source": [
        "test=model2.fit(\n",
        "    train_generator,\n",
        "     validation_data = val_generator,\n",
        "     epochs=100,\n",
        "     steps_per_epoch= 10,\n",
        "     batch_size=32,\n",
        "\n",
        ")"
      ],
      "metadata": {
        "id": "lXnuAnODB_OB",
        "outputId": "f22346cd-969d-4eee-e6ef-97b9e9e63246",
        "colab": {
          "base_uri": "https://localhost:8080/"
        }
      },
      "execution_count": null,
      "outputs": [
        {
          "output_type": "stream",
          "name": "stdout",
          "text": [
            "Epoch 1/100\n",
            "10/10 [==============================] - 17s 2s/step - loss: 0.6914 - accuracy: 0.6126 - val_loss: 0.6008 - val_accuracy: 0.7882\n",
            "Epoch 2/100\n",
            "10/10 [==============================] - 13s 1s/step - loss: 0.5637 - accuracy: 0.7881 - val_loss: 0.5377 - val_accuracy: 0.8118\n",
            "Epoch 3/100\n",
            "10/10 [==============================] - 12s 1s/step - loss: 0.5152 - accuracy: 0.8874 - val_loss: 0.4953 - val_accuracy: 0.9000\n",
            "Epoch 4/100\n",
            "10/10 [==============================] - 13s 1s/step - loss: 0.4695 - accuracy: 0.9007 - val_loss: 0.4936 - val_accuracy: 0.9235\n",
            "Epoch 5/100\n",
            "10/10 [==============================] - 13s 1s/step - loss: 0.4458 - accuracy: 0.9636 - val_loss: 0.5052 - val_accuracy: 0.8706\n",
            "Epoch 6/100\n",
            "10/10 [==============================] - 13s 1s/step - loss: 0.4455 - accuracy: 0.9000 - val_loss: 0.4958 - val_accuracy: 0.9235\n",
            "Epoch 7/100\n",
            "10/10 [==============================] - 13s 1s/step - loss: 0.4626 - accuracy: 0.9531 - val_loss: 0.5070 - val_accuracy: 0.9353\n",
            "Epoch 8/100\n",
            "10/10 [==============================] - 13s 1s/step - loss: 0.4496 - accuracy: 0.9406 - val_loss: 0.4968 - val_accuracy: 0.9059\n",
            "Epoch 9/100\n",
            "10/10 [==============================] - 13s 1s/step - loss: 0.4287 - accuracy: 0.9563 - val_loss: 0.4508 - val_accuracy: 0.9588\n",
            "Epoch 10/100\n",
            "10/10 [==============================] - 13s 1s/step - loss: 0.4221 - accuracy: 0.9702 - val_loss: 0.5814 - val_accuracy: 0.9000\n",
            "Epoch 11/100\n",
            "10/10 [==============================] - 13s 1s/step - loss: 0.4318 - accuracy: 0.9531 - val_loss: 0.4461 - val_accuracy: 0.9647\n",
            "Epoch 12/100\n",
            "10/10 [==============================] - 13s 1s/step - loss: 0.4281 - accuracy: 0.9563 - val_loss: 0.4599 - val_accuracy: 0.9353\n",
            "Epoch 13/100\n",
            "10/10 [==============================] - 13s 1s/step - loss: 0.4147 - accuracy: 0.9719 - val_loss: 0.4454 - val_accuracy: 0.9647\n",
            "Epoch 14/100\n",
            "10/10 [==============================] - 13s 1s/step - loss: 0.4169 - accuracy: 0.9688 - val_loss: 0.4599 - val_accuracy: 0.9353\n",
            "Epoch 15/100\n",
            "10/10 [==============================] - 13s 1s/step - loss: 0.4264 - accuracy: 0.9503 - val_loss: 0.4445 - val_accuracy: 0.9529\n",
            "Epoch 16/100\n",
            "10/10 [==============================] - 13s 1s/step - loss: 0.4324 - accuracy: 0.9688 - val_loss: 0.5073 - val_accuracy: 0.9118\n",
            "Epoch 17/100\n",
            "10/10 [==============================] - 13s 1s/step - loss: 0.4185 - accuracy: 0.9625 - val_loss: 0.5374 - val_accuracy: 0.8882\n",
            "Epoch 18/100\n",
            "10/10 [==============================] - 13s 1s/step - loss: 0.4035 - accuracy: 0.9768 - val_loss: 0.4506 - val_accuracy: 0.9647\n",
            "Epoch 19/100\n",
            "10/10 [==============================] - 14s 1s/step - loss: 0.4103 - accuracy: 0.9719 - val_loss: 0.4857 - val_accuracy: 0.9412\n",
            "Epoch 20/100\n",
            "10/10 [==============================] - 13s 1s/step - loss: 0.4173 - accuracy: 0.9702 - val_loss: 0.4518 - val_accuracy: 0.9706\n",
            "Epoch 21/100\n",
            "10/10 [==============================] - 13s 1s/step - loss: 0.4121 - accuracy: 0.9812 - val_loss: 0.4700 - val_accuracy: 0.9412\n",
            "Epoch 22/100\n",
            "10/10 [==============================] - 12s 1s/step - loss: 0.4400 - accuracy: 0.9801 - val_loss: 0.4665 - val_accuracy: 0.9471\n",
            "Epoch 23/100\n",
            "10/10 [==============================] - 12s 1s/step - loss: 0.3958 - accuracy: 0.9702 - val_loss: 0.4428 - val_accuracy: 0.9529\n",
            "Epoch 24/100\n",
            "10/10 [==============================] - 13s 1s/step - loss: 0.4119 - accuracy: 0.9812 - val_loss: 0.4674 - val_accuracy: 0.9353\n",
            "Epoch 25/100\n",
            "10/10 [==============================] - 13s 1s/step - loss: 0.4039 - accuracy: 0.9750 - val_loss: 0.5237 - val_accuracy: 0.9176\n",
            "Epoch 26/100\n",
            "10/10 [==============================] - 13s 1s/step - loss: 0.4086 - accuracy: 0.9750 - val_loss: 0.4477 - val_accuracy: 0.9765\n",
            "Epoch 27/100\n",
            "10/10 [==============================] - 13s 1s/step - loss: 0.4289 - accuracy: 0.9750 - val_loss: 0.4818 - val_accuracy: 0.9706\n",
            "Epoch 28/100\n",
            "10/10 [==============================] - 13s 1s/step - loss: 0.4252 - accuracy: 0.9768 - val_loss: 0.4745 - val_accuracy: 0.9412\n",
            "Epoch 29/100\n",
            "10/10 [==============================] - 13s 1s/step - loss: 0.3884 - accuracy: 0.9812 - val_loss: 0.5532 - val_accuracy: 0.9235\n",
            "Epoch 30/100\n",
            "10/10 [==============================] - 13s 1s/step - loss: 0.4098 - accuracy: 0.9735 - val_loss: 0.4510 - val_accuracy: 0.9706\n",
            "Epoch 31/100\n",
            "10/10 [==============================] - 13s 1s/step - loss: 0.4240 - accuracy: 0.9719 - val_loss: 0.4458 - val_accuracy: 0.9588\n",
            "Epoch 32/100\n",
            "10/10 [==============================] - 13s 1s/step - loss: 0.3994 - accuracy: 0.9750 - val_loss: 0.5611 - val_accuracy: 0.9176\n",
            "Epoch 33/100\n",
            "10/10 [==============================] - 13s 1s/step - loss: 0.3809 - accuracy: 0.9868 - val_loss: 0.4985 - val_accuracy: 0.9588\n",
            "Epoch 34/100\n",
            "10/10 [==============================] - 13s 1s/step - loss: 0.3982 - accuracy: 0.9735 - val_loss: 0.4792 - val_accuracy: 0.9588\n",
            "Epoch 35/100\n",
            "10/10 [==============================] - 13s 1s/step - loss: 0.4143 - accuracy: 0.9901 - val_loss: 0.4408 - val_accuracy: 0.9588\n",
            "Epoch 36/100\n",
            "10/10 [==============================] - 13s 1s/step - loss: 0.4071 - accuracy: 0.9844 - val_loss: 0.4625 - val_accuracy: 0.9588\n",
            "Epoch 37/100\n",
            "10/10 [==============================] - 13s 1s/step - loss: 0.3983 - accuracy: 0.9669 - val_loss: 0.4396 - val_accuracy: 0.9824\n",
            "Epoch 38/100\n",
            "10/10 [==============================] - 13s 1s/step - loss: 0.4146 - accuracy: 0.9834 - val_loss: 0.4318 - val_accuracy: 0.9588\n",
            "Epoch 39/100\n",
            "10/10 [==============================] - 13s 1s/step - loss: 0.4066 - accuracy: 0.9875 - val_loss: 0.5152 - val_accuracy: 0.9294\n",
            "Epoch 40/100\n",
            "10/10 [==============================] - 13s 1s/step - loss: 0.4035 - accuracy: 0.9812 - val_loss: 0.5077 - val_accuracy: 0.9647\n",
            "Epoch 41/100\n",
            "10/10 [==============================] - 12s 1s/step - loss: 0.4260 - accuracy: 0.9834 - val_loss: 0.4690 - val_accuracy: 0.9647\n",
            "Epoch 42/100\n",
            "10/10 [==============================] - 13s 1s/step - loss: 0.3916 - accuracy: 0.9906 - val_loss: 0.5026 - val_accuracy: 0.9294\n",
            "Epoch 43/100\n",
            "10/10 [==============================] - 13s 1s/step - loss: 0.4068 - accuracy: 0.9844 - val_loss: 0.5054 - val_accuracy: 0.9471\n",
            "Epoch 44/100\n",
            "10/10 [==============================] - 13s 1s/step - loss: 0.3962 - accuracy: 0.9875 - val_loss: 0.4642 - val_accuracy: 0.9412\n",
            "Epoch 45/100\n",
            "10/10 [==============================] - 13s 1s/step - loss: 0.4063 - accuracy: 0.9868 - val_loss: 0.4532 - val_accuracy: 0.9588\n",
            "Epoch 46/100\n",
            "10/10 [==============================] - 13s 1s/step - loss: 0.4073 - accuracy: 0.9768 - val_loss: 0.4921 - val_accuracy: 0.9706\n",
            "Epoch 47/100\n",
            "10/10 [==============================] - 13s 1s/step - loss: 0.3923 - accuracy: 0.9875 - val_loss: 0.4786 - val_accuracy: 0.9706\n",
            "Epoch 48/100\n",
            "10/10 [==============================] - 13s 1s/step - loss: 0.3708 - accuracy: 0.9969 - val_loss: 0.5028 - val_accuracy: 0.9353\n",
            "Epoch 49/100\n",
            "10/10 [==============================] - 13s 1s/step - loss: 0.4088 - accuracy: 0.9750 - val_loss: 0.4351 - val_accuracy: 0.9706\n",
            "Epoch 50/100\n",
            "10/10 [==============================] - 13s 1s/step - loss: 0.4156 - accuracy: 0.9868 - val_loss: 0.4546 - val_accuracy: 0.9647\n",
            "Epoch 51/100\n",
            "10/10 [==============================] - 13s 1s/step - loss: 0.3930 - accuracy: 0.9834 - val_loss: 0.5289 - val_accuracy: 0.9353\n",
            "Epoch 52/100\n",
            "10/10 [==============================] - 13s 1s/step - loss: 0.4110 - accuracy: 0.9719 - val_loss: 0.4399 - val_accuracy: 0.9706\n",
            "Epoch 53/100\n",
            "10/10 [==============================] - 13s 1s/step - loss: 0.4216 - accuracy: 0.9844 - val_loss: 0.4692 - val_accuracy: 0.9588\n",
            "Epoch 54/100\n",
            "10/10 [==============================] - 12s 1s/step - loss: 0.4229 - accuracy: 0.9768 - val_loss: 0.5724 - val_accuracy: 0.9118\n",
            "Epoch 55/100\n",
            "10/10 [==============================] - 13s 1s/step - loss: 0.4232 - accuracy: 0.9688 - val_loss: 0.4072 - val_accuracy: 0.9824\n",
            "Epoch 56/100\n",
            "10/10 [==============================] - 13s 1s/step - loss: 0.4433 - accuracy: 0.9844 - val_loss: 0.4503 - val_accuracy: 0.9647\n",
            "Epoch 57/100\n",
            "10/10 [==============================] - 13s 1s/step - loss: 0.4317 - accuracy: 0.9702 - val_loss: 0.4669 - val_accuracy: 0.9706\n",
            "Epoch 58/100\n",
            "10/10 [==============================] - 13s 1s/step - loss: 0.4199 - accuracy: 0.9906 - val_loss: 0.4185 - val_accuracy: 0.9824\n",
            "Epoch 59/100\n",
            "10/10 [==============================] - 13s 1s/step - loss: 0.3888 - accuracy: 0.9967 - val_loss: 0.4914 - val_accuracy: 0.9647\n",
            "Epoch 60/100\n",
            "10/10 [==============================] - 13s 1s/step - loss: 0.3931 - accuracy: 0.9834 - val_loss: 0.5450 - val_accuracy: 0.9353\n",
            "Epoch 61/100\n",
            "10/10 [==============================] - 13s 1s/step - loss: 0.3894 - accuracy: 0.9906 - val_loss: 0.4688 - val_accuracy: 0.9647\n",
            "Epoch 62/100\n",
            "10/10 [==============================] - 13s 1s/step - loss: 0.4057 - accuracy: 0.9834 - val_loss: 0.4762 - val_accuracy: 0.9588\n",
            "Epoch 63/100\n",
            "10/10 [==============================] - 13s 1s/step - loss: 0.3888 - accuracy: 0.9844 - val_loss: 0.4742 - val_accuracy: 0.9647\n",
            "Epoch 64/100\n",
            "10/10 [==============================] - 13s 1s/step - loss: 0.4160 - accuracy: 0.9844 - val_loss: 0.4929 - val_accuracy: 0.9706\n",
            "Epoch 65/100\n",
            "10/10 [==============================] - 12s 1s/step - loss: 0.4256 - accuracy: 0.9934 - val_loss: 0.4576 - val_accuracy: 0.9647\n",
            "Epoch 66/100\n",
            "10/10 [==============================] - 13s 1s/step - loss: 0.3848 - accuracy: 0.9875 - val_loss: 0.5406 - val_accuracy: 0.9471\n",
            "Epoch 67/100\n",
            "10/10 [==============================] - 13s 1s/step - loss: 0.3962 - accuracy: 0.9868 - val_loss: 0.4333 - val_accuracy: 0.9706\n",
            "Epoch 68/100\n",
            "10/10 [==============================] - 13s 1s/step - loss: 0.4129 - accuracy: 0.9969 - val_loss: 0.4582 - val_accuracy: 0.9706\n",
            "Epoch 69/100\n",
            "10/10 [==============================] - 13s 1s/step - loss: 0.3917 - accuracy: 1.0000 - val_loss: 0.5756 - val_accuracy: 0.9412\n",
            "Epoch 70/100\n",
            "10/10 [==============================] - 13s 1s/step - loss: 0.4021 - accuracy: 0.9868 - val_loss: 0.4717 - val_accuracy: 0.9647\n",
            "Epoch 71/100\n",
            "10/10 [==============================] - 13s 1s/step - loss: 0.3758 - accuracy: 0.9906 - val_loss: 0.4827 - val_accuracy: 0.9529\n",
            "Epoch 72/100\n",
            "10/10 [==============================] - 13s 1s/step - loss: 0.4036 - accuracy: 0.9906 - val_loss: 0.4719 - val_accuracy: 0.9647\n",
            "Epoch 73/100\n",
            "10/10 [==============================] - 13s 1s/step - loss: 0.3889 - accuracy: 1.0000 - val_loss: 0.4998 - val_accuracy: 0.9529\n",
            "Epoch 74/100\n",
            "10/10 [==============================] - 13s 1s/step - loss: 0.3956 - accuracy: 0.9812 - val_loss: 0.4778 - val_accuracy: 0.9588\n",
            "Epoch 75/100\n",
            "10/10 [==============================] - 13s 1s/step - loss: 0.4035 - accuracy: 0.9844 - val_loss: 0.4744 - val_accuracy: 0.9588\n",
            "Epoch 76/100\n",
            "10/10 [==============================] - 13s 1s/step - loss: 0.3706 - accuracy: 0.9969 - val_loss: 0.4544 - val_accuracy: 0.9647\n",
            "Epoch 77/100\n",
            "10/10 [==============================] - 13s 1s/step - loss: 0.3624 - accuracy: 0.9934 - val_loss: 0.5253 - val_accuracy: 0.9471\n",
            "Epoch 78/100\n",
            "10/10 [==============================] - 12s 1s/step - loss: 0.4162 - accuracy: 0.9967 - val_loss: 0.4945 - val_accuracy: 0.9412\n",
            "Epoch 79/100\n",
            "10/10 [==============================] - 13s 1s/step - loss: 0.4083 - accuracy: 0.9906 - val_loss: 0.4739 - val_accuracy: 0.9647\n",
            "Epoch 80/100\n",
            "10/10 [==============================] - 13s 1s/step - loss: 0.3993 - accuracy: 0.9906 - val_loss: 0.4865 - val_accuracy: 0.9471\n",
            "Epoch 81/100\n",
            "10/10 [==============================] - 13s 1s/step - loss: 0.4262 - accuracy: 0.9906 - val_loss: 0.4647 - val_accuracy: 0.9412\n",
            "Epoch 82/100\n",
            "10/10 [==============================] - 13s 1s/step - loss: 0.4005 - accuracy: 0.9969 - val_loss: 0.4873 - val_accuracy: 0.9588\n",
            "Epoch 83/100\n",
            "10/10 [==============================] - 13s 1s/step - loss: 0.3918 - accuracy: 0.9967 - val_loss: 0.5235 - val_accuracy: 0.9353\n",
            "Epoch 84/100\n",
            "10/10 [==============================] - 12s 1s/step - loss: 0.4004 - accuracy: 0.9901 - val_loss: 0.4935 - val_accuracy: 0.9471\n",
            "Epoch 85/100\n",
            "10/10 [==============================] - 13s 1s/step - loss: 0.3816 - accuracy: 0.9868 - val_loss: 0.4729 - val_accuracy: 0.9529\n",
            "Epoch 86/100\n",
            "10/10 [==============================] - 13s 1s/step - loss: 0.4140 - accuracy: 0.9934 - val_loss: 0.4986 - val_accuracy: 0.9588\n",
            "Epoch 87/100\n",
            "10/10 [==============================] - 13s 1s/step - loss: 0.3817 - accuracy: 0.9901 - val_loss: 0.4555 - val_accuracy: 0.9588\n",
            "Epoch 88/100\n",
            "10/10 [==============================] - 13s 1s/step - loss: 0.3917 - accuracy: 0.9969 - val_loss: 0.4185 - val_accuracy: 0.9706\n",
            "Epoch 89/100\n",
            "10/10 [==============================] - 13s 1s/step - loss: 0.4119 - accuracy: 0.9967 - val_loss: 0.5271 - val_accuracy: 0.9412\n",
            "Epoch 90/100\n",
            "10/10 [==============================] - 13s 1s/step - loss: 0.4113 - accuracy: 0.9875 - val_loss: 0.4851 - val_accuracy: 0.9353\n",
            "Epoch 91/100\n",
            "10/10 [==============================] - 13s 1s/step - loss: 0.4049 - accuracy: 0.9906 - val_loss: 0.4247 - val_accuracy: 0.9647\n",
            "Epoch 92/100\n",
            "10/10 [==============================] - 13s 1s/step - loss: 0.3896 - accuracy: 0.9937 - val_loss: 0.4699 - val_accuracy: 0.9765\n",
            "Epoch 93/100\n",
            "10/10 [==============================] - 13s 1s/step - loss: 0.3729 - accuracy: 0.9969 - val_loss: 0.4695 - val_accuracy: 0.9588\n",
            "Epoch 94/100\n",
            "10/10 [==============================] - 12s 1s/step - loss: 0.4211 - accuracy: 0.9868 - val_loss: 0.4788 - val_accuracy: 0.9647\n",
            "Epoch 95/100\n",
            "10/10 [==============================] - 13s 1s/step - loss: 0.3846 - accuracy: 0.9969 - val_loss: 0.4929 - val_accuracy: 0.9647\n",
            "Epoch 96/100\n",
            "10/10 [==============================] - 13s 1s/step - loss: 0.3939 - accuracy: 0.9906 - val_loss: 0.4787 - val_accuracy: 0.9588\n",
            "Epoch 97/100\n",
            "10/10 [==============================] - 12s 1s/step - loss: 0.4107 - accuracy: 0.9937 - val_loss: 0.4292 - val_accuracy: 0.9824\n",
            "Epoch 98/100\n",
            "10/10 [==============================] - 13s 1s/step - loss: 0.3745 - accuracy: 0.9969 - val_loss: 0.4975 - val_accuracy: 0.9588\n",
            "Epoch 99/100\n",
            "10/10 [==============================] - 13s 1s/step - loss: 0.3897 - accuracy: 0.9937 - val_loss: 0.5217 - val_accuracy: 0.9529\n",
            "Epoch 100/100\n",
            "10/10 [==============================] - 13s 1s/step - loss: 0.3879 - accuracy: 0.9937 - val_loss: 0.4394 - val_accuracy: 0.9882\n"
          ]
        }
      ]
    },
    {
      "cell_type": "code",
      "source": [
        "%matplotlib inline\n",
        "\n",
        "import matplotlib.pyplot as plt\n",
        "\n",
        "plt.style.use(\"ggplot\")\n",
        "plt.figure()\n",
        "plt.plot(np.arange(0, 100), test.history[\"loss\"], label=\"train_loss\")\n",
        "plt.plot(np.arange(0, 100), test.history[\"val_loss\"], label=\"val_loss\")\n",
        "plt.title(\"Loss Plot\")\n",
        "plt.xlabel(\"Epoch #\")\n",
        "plt.ylabel(\"Loss\")\n",
        "plt.legend()\n",
        "plt.show()\n",
        "\n",
        "plt.style.use(\"ggplot\")\n",
        "plt.figure()\n",
        "plt.plot(np.arange(0, 100), test.history[\"accuracy\"], label=\"train_acc\")\n",
        "plt.plot(np.arange(0, 100), test.history[\"val_accuracy\"], label=\"val_acc\")\n",
        "plt.title(\"Accuracy Plot\")\n",
        "plt.xlabel(\"Epoch #\")\n",
        "plt.ylabel(\"Acc\")\n",
        "plt.legend()\n",
        "plt.show()"
      ],
      "metadata": {
        "colab": {
          "base_uri": "https://localhost:8080/",
          "height": 581
        },
        "id": "GmIxKCVg_jp0",
        "outputId": "f9db5c49-8e1b-47d2-be86-189e4fa887d6"
      },
      "execution_count": null,
      "outputs": [
        {
          "output_type": "display_data",
          "data": {
            "image/png": "[encoded data removed]",
            "text/plain": [
              "<Figure size 432x288 with 1 Axes>"
            ]
          },
          "metadata": {}
        },
        {
          "output_type": "display_data",
          "data": {
            "image/png": "[encoded data removed]",
            "text/plain": [
              "<Figure size 432x288 with 1 Axes>"
            ]
          },
          "metadata": {}
        }
      ]
    },
    {
      "cell_type": "code",
      "source": [
        "from sklearn.metrics import classification_report\n",
        "\n",
        "pred = model2.predict(x_train)\n",
        "labels = (pred > 0.5).astype(np.int)\n",
        "\n",
        "print(classification_report(y_train, labels))"
      ],
      "metadata": {
        "colab": {
          "base_uri": "https://localhost:8080/"
        },
        "id": "4RmQQCYS_jwM",
        "outputId": "5857751c-de25-437b-e98a-073ed57d7a8e"
      },
      "execution_count": null,
      "outputs": [
        {
          "output_type": "stream",
          "name": "stdout",
          "text": [
            "              precision    recall  f1-score   support\n",
            "\n",
            "           0       0.97      1.00      0.98       374\n",
            "           1       1.00      0.97      0.99       482\n",
            "\n",
            "    accuracy                           0.98       856\n",
            "   macro avg       0.98      0.99      0.98       856\n",
            "weighted avg       0.99      0.98      0.98       856\n",
            "\n"
          ]
        }
      ]
    },
    {
      "cell_type": "code",
      "source": [
        "from keras.models import save_model\n",
        "model_1 = save_model(model2,'MobileNet.h5')"
      ],
      "metadata": {
        "id": "rNpoHZUu_j2t"
      },
      "execution_count": null,
      "outputs": []
    },
    {
      "cell_type": "code",
      "source": [
        ""
      ],
      "metadata": {
        "id": "JMwd6m5m_j7C"
      },
      "execution_count": null,
      "outputs": []
    },
    {
      "cell_type": "code",
      "source": [
        ""
      ],
      "metadata": {
        "id": "rVMstrz3_j_u"
      },
      "execution_count": null,
      "outputs": []
    }
  ]
}